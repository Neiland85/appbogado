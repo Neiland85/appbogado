# Importar bibliotecas necesarias
import sys
import os

# Agregar el directorio del proyecto al path (ajusta la ruta según tu estructura de directorios)
sys.path.append(os.path.abspath("../appbogado"))

# Importar bibliotecas necesarias
import pytest

